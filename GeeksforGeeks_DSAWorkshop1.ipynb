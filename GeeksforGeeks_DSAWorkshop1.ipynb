{
  "nbformat": 4,
  "nbformat_minor": 0,
  "metadata": {
    "colab": {
      "name": "GeeksforGeeks_DSAWorkshop1.ipynb",
      "provenance": [],
      "collapsed_sections": [],
      "authorship_tag": "ABX9TyPP6+lxGAnmTsY4cj45BwLx",
      "include_colab_link": true
    },
    "kernelspec": {
      "name": "python3",
      "display_name": "Python 3"
    }
  },
  "cells": [
    {
      "cell_type": "markdown",
      "metadata": {
        "id": "view-in-github",
        "colab_type": "text"
      },
      "source": [
        "<a href=\"https://colab.research.google.com/github/mygoal-javadeveloper/DataStructuresandAlgorithms/blob/main/GeeksforGeeks_DSAWorkshop1.ipynb\" target=\"_parent\"><img src=\"https://colab.research.google.com/assets/colab-badge.svg\" alt=\"Open In Colab\"/></a>"
      ]
    },
    {
      "cell_type": "markdown",
      "metadata": {
        "id": "kHISdobex89d"
      },
      "source": [
        "# Find the number of digits in the given number"
      ]
    },
    {
      "cell_type": "code",
      "metadata": {
        "colab": {
          "base_uri": "https://localhost:8080/"
        },
        "id": "7dpwH7shxn_8",
        "outputId": "6740d671-a912-4fbc-8782-fcb87effc5a6"
      },
      "source": [
        "x = 2020\n",
        "digit_nums = 0\n",
        "while x > 0:\n",
        "  digit_nums += 1\n",
        "  x //= 10   #Floor division\n",
        "\n",
        "digit_nums\n"
      ],
      "execution_count": 1,
      "outputs": [
        {
          "output_type": "execute_result",
          "data": {
            "text/plain": [
              "4"
            ]
          },
          "metadata": {
            "tags": []
          },
          "execution_count": 1
        }
      ]
    },
    {
      "cell_type": "markdown",
      "metadata": {
        "id": "kjW2gBBU06re"
      },
      "source": [
        "### The time complexity of the above solution is O(digitnums) i.e. O(4)"
      ]
    },
    {
      "cell_type": "code",
      "metadata": {
        "colab": {
          "base_uri": "https://localhost:8080/"
        },
        "id": "n18jZxGO0LFI",
        "outputId": "5e618829-ce81-4b34-da13-eccca3abf0b5"
      },
      "source": [
        "from math import *\n",
        "x = 2020\n",
        "digitnum = floor(log10( x ) + 1)\n",
        "digitnum"
      ],
      "execution_count": 2,
      "outputs": [
        {
          "output_type": "execute_result",
          "data": {
            "text/plain": [
              "4"
            ]
          },
          "metadata": {
            "tags": []
          },
          "execution_count": 2
        }
      ]
    },
    {
      "cell_type": "markdown",
      "metadata": {
        "id": "_d0KgwK25l9p"
      },
      "source": [
        " ### The time complexity of the above solution is O(1)."
      ]
    }
  ]
}